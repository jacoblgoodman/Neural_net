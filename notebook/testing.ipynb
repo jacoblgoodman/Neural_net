{
 "cells": [
  {
   "cell_type": "code",
   "execution_count": 1,
   "metadata": {},
   "outputs": [],
   "source": [
    "import os\n",
    "import sys\n",
    "import numpy as np\n",
    "import pprint\n",
    "\n",
    "#https://stackoverflow.com/questions/34478398/import-local-function-from-a-module-housed-in-another-directory-with-relative-im/44486700\n",
    "module_path= os.path.abspath(os.path.join('..',\"python\"))\n",
    "\n",
    "if module_path not in sys.path:\n",
    "    sys.path.append(module_path)\n",
    "\n",
    "from neural_net import NeuralNetwork"
   ]
  },
  {
   "cell_type": "markdown",
   "metadata": {
    "pycharm": {
     "name": "#%% md\n"
    }
   },
   "source": [
    "## subsantiating a model"
   ]
  },
  {
   "cell_type": "code",
   "execution_count": 2,
   "metadata": {
    "jupyter": {
     "outputs_hidden": false
    },
    "pycharm": {
     "name": "#%%\n"
    }
   },
   "outputs": [],
   "source": [
    "model =NeuralNetwork(3,3,2)"
   ]
  },
  {
   "cell_type": "markdown",
   "metadata": {},
   "source": [
    "## verifying weights"
   ]
  },
  {
   "cell_type": "code",
   "execution_count": 3,
   "metadata": {
    "jupyter": {
     "outputs_hidden": false
    },
    "pycharm": {
     "name": "#%%\n"
    }
   },
   "outputs": [
    {
     "name": "stdout",
     "output_type": "stream",
     "text": [
      "[[-0.17624824 -0.213211  ]\n",
      " [-0.23696381 -0.1695661 ]\n",
      " [ 0.46671417  0.18483981]\n",
      " [-0.29473947 -0.29473947]]\n"
     ]
    }
   ],
   "source": [
    "print(model.W)"
   ]
  },
  {
   "cell_type": "markdown",
   "metadata": {},
   "source": [
    "## testing predict function on  known information\n",
    "\n",
    "**Steps**\n",
    "1. update weights to known point\n",
    "2. predict using input\n",
    "3. test output"
   ]
  },
  {
   "cell_type": "code",
   "execution_count": 4,
   "metadata": {
    "jupyter": {
     "outputs_hidden": false
    },
    "pycharm": {
     "name": "#%%\n"
    }
   },
   "outputs": [],
   "source": [
    "w = np.array([[.1,.3,-.2],[-.4,.1,.2],[-.1,-.2,.4],[.2,.2,.2]])\n",
    "W = np.array([[.5,.2],[-.3,-.3],[.2,.1],[.3,.3]])\n",
    "inp = np.array([4,8,6])\n",
    "targ = np.array([.65,.4])"
   ]
  },
  {
   "cell_type": "markdown",
   "metadata": {},
   "source": [
    "\n"
   ]
  },
  {
   "cell_type": "code",
   "execution_count": 5,
   "metadata": {
    "jupyter": {
     "outputs_hidden": false
    },
    "pycharm": {
     "name": "#%%\n"
    }
   },
   "outputs": [],
   "source": [
    "model.w = w\n",
    "model.W = W"
   ]
  },
  {
   "cell_type": "code",
   "execution_count": 6,
   "metadata": {
    "jupyter": {
     "outputs_hidden": false
    },
    "pycharm": {
     "name": "#%%\n"
    }
   },
   "outputs": [
    {
     "name": "stdout",
     "output_type": "stream",
     "text": [
      "[0.5729277  0.54618944]\n"
     ]
    }
   ],
   "source": [
    "print(model.predict(inp))"
   ]
  },
  {
   "cell_type": "markdown",
   "source": [
    "expected output:\n",
    " array([0.5729277 , 0.54618944])\n"
   ],
   "metadata": {
    "collapsed": false,
    "pycharm": {
     "name": "#%% md\n"
    }
   }
  },
  {
   "cell_type": "code",
   "execution_count": 7,
   "outputs": [
    {
     "data": {
      "text/plain": "0.0023885891017721714"
     },
     "execution_count": 7,
     "metadata": {},
     "output_type": "execute_result"
    }
   ],
   "source": [
    "model.predict(inp,targ)"
   ],
   "metadata": {
    "collapsed": false,
    "pycharm": {
     "name": "#%%\n"
    }
   }
  },
  {
   "cell_type": "markdown",
   "source": [
    "expected error\n",
    "0.0023885891017721714\n"
   ],
   "metadata": {
    "collapsed": false,
    "pycharm": {
     "name": "#%% md\n"
    }
   }
  },
  {
   "cell_type": "markdown",
   "metadata": {
    "pycharm": {
     "name": "#%% md\n"
    }
   },
   "source": [
    "## testing training methode on known informaiton\n",
    "\n",
    "using our established weights we would expect one pass of training with an alpha of .2 to be\n",
    "``` python\n",
    "array([[ 0.10006569,  0.30081998, -0.1999963 ],  \n",
    "       [-0.39986862,  0.10163996,  0.2000074 ],  \n",
    "       [-0.09990147, -0.19877003,  0.40000555],  \n",
    "       [ 0.20022234,  0.20022234,  0.20022234]])\n",
    "```  "
   ]
  },
  {
   "cell_type": "code",
   "execution_count": 8,
   "metadata": {
    "jupyter": {
     "outputs_hidden": false
    },
    "pycharm": {
     "name": "#%%\n"
    }
   },
   "outputs": [
    {
     "name": "stdout",
     "output_type": "stream",
     "text": [
      "one pass\n",
      "[[ 0.10006569  0.30081998 -0.1999963 ]\n",
      " [-0.39986862  0.10163996  0.2000074 ]\n",
      " [-0.09990147 -0.19877003  0.40000555]\n",
      " [ 0.20022234  0.20022234  0.20022234]]\n"
     ]
    }
   ],
   "source": [
    "model.get_gradients(inp,targ)\n",
    "print(model.w)"
   ]
  },
  {
   "cell_type": "code",
   "execution_count": 9,
   "metadata": {
    "jupyter": {
     "outputs_hidden": false
    },
    "pycharm": {
     "name": "#%%\n"
    }
   },
   "outputs": [
    {
     "name": "stdout",
     "output_type": "stream",
     "text": [
      "one pass\n"
     ]
    }
   ],
   "source": [
    "# running training method\n",
    "model.train(inp,targ)"
   ]
  },
  {
   "cell_type": "markdown",
   "metadata": {
    "pycharm": {
     "name": "#%% md\n"
    }
   },
   "source": [
    "## testing on multiple inputs at once"
   ]
  },
  {
   "cell_type": "code",
   "execution_count": 10,
   "metadata": {
    "jupyter": {
     "outputs_hidden": false
    },
    "pycharm": {
     "name": "#%%\n"
    }
   },
   "outputs": [],
   "source": [
    "inp_many = np.tile(inp,3).reshape(3,-1)\n",
    "targ_many = np.tile(targ,3).reshape(3,-1)"
   ]
  },
  {
   "cell_type": "code",
   "execution_count": 11,
   "metadata": {
    "jupyter": {
     "outputs_hidden": false
    },
    "pycharm": {
     "name": "#%%\n"
    }
   },
   "outputs": [
    {
     "name": "stdout",
     "output_type": "stream",
     "text": [
      "[4 8 6] [0.65 0.4 ]\n",
      "[4 8 6] [0.65 0.4 ]\n",
      "[4 8 6] [0.65 0.4 ]\n"
     ]
    }
   ],
   "source": [
    "for x, y in zip(inp_many, targ_many):\n",
    "    print(x,y)"
   ]
  },
  {
   "cell_type": "code",
   "execution_count": 12,
   "metadata": {
    "jupyter": {
     "outputs_hidden": false
    },
    "pycharm": {
     "name": "#%%\n"
    }
   },
   "outputs": [
    {
     "name": "stdout",
     "output_type": "stream",
     "text": [
      "one pass\n",
      "one pass\n",
      "one pass\n",
      "[[ 0.10021268  0.30242286 -0.19995965]\n",
      " [-0.39957464  0.10484572  0.2000807 ]\n",
      " [-0.09968098 -0.19636571  0.40006053]\n",
      " [ 0.20066897  0.20066897  0.20066897]]\n"
     ]
    }
   ],
   "source": [
    "model.w = w\n",
    "model.W = W\n",
    "for x,y in zip(inp_many,targ_many):\n",
    "    model.train(x, y)\n",
    "\n",
    "print(model.w)"
   ]
  },
  {
   "cell_type": "code",
   "execution_count": 13,
   "metadata": {
    "jupyter": {
     "outputs_hidden": false
    },
    "pycharm": {
     "name": "#%%\n"
    }
   },
   "outputs": [
    {
     "name": "stdout",
     "output_type": "stream",
     "text": [
      "one pass\n",
      "one pass\n",
      "one pass\n",
      "one epoch\n",
      "[[ 0.10021268  0.30242286 -0.19995965]\n",
      " [-0.39957464  0.10484572  0.2000807 ]\n",
      " [-0.09968098 -0.19636571  0.40006053]\n",
      " [ 0.20066897  0.20066897  0.20066897]]\n"
     ]
    }
   ],
   "source": [
    "model.w = w\n",
    "model.W = W\n",
    "model.train(inp_many, targ_many)\n",
    "print(model.w)"
   ]
  },
  {
   "cell_type": "markdown",
   "metadata": {
    "pycharm": {
     "name": "#%% md\n"
    }
   },
   "source": []
  },
  {
   "cell_type": "markdown",
   "metadata": {},
   "source": [
    "## testing other activation functions\n"
   ]
  },
  {
   "cell_type": "markdown",
   "metadata": {},
   "source": [
    "### hyperbolic tangent"
   ]
  },
  {
   "cell_type": "code",
   "execution_count": 14,
   "metadata": {},
   "outputs": [],
   "source": [
    "hyberbolic_model = NeuralNetwork(3,3,2,activation='hyperbolic')"
   ]
  },
  {
   "cell_type": "code",
   "execution_count": 15,
   "metadata": {},
   "outputs": [
    {
     "name": "stdout",
     "output_type": "stream",
     "text": [
      "<function NeuralNetwork.act_hyperbolic at 0x000001D0E3741670>\n",
      "<function NeuralNetwork.der_hyperbolic at 0x000001D0E37415E0>\n"
     ]
    }
   ],
   "source": [
    "print(hyberbolic_model.Actfunc)\n",
    "print(hyberbolic_model.Der_Actfunc)"
   ]
  },
  {
   "cell_type": "code",
   "execution_count": 16,
   "metadata": {},
   "outputs": [
    {
     "name": "stdout",
     "output_type": "stream",
     "text": [
      "[0.1800521  0.50212848]\n"
     ]
    }
   ],
   "source": [
    "print(hyberbolic_model.predict(inp))"
   ]
  },
  {
   "cell_type": "code",
   "execution_count": 17,
   "metadata": {},
   "outputs": [
    {
     "name": "stdout",
     "output_type": "stream",
     "text": [
      "one pass\n"
     ]
    }
   ],
   "source": [
    "hyberbolic_model.train(inp,targ)"
   ]
  },
  {
   "cell_type": "markdown",
   "metadata": {},
   "source": [
    "### relu"
   ]
  },
  {
   "cell_type": "code",
   "execution_count": 18,
   "metadata": {},
   "outputs": [
    {
     "name": "stdout",
     "output_type": "stream",
     "text": [
      "<function NeuralNetwork.act_relu at 0x000001D0E3741430>\n",
      "<function NeuralNetwork.der_relu at 0x000001D0E37413A0>\n"
     ]
    }
   ],
   "source": [
    "relu_model = NeuralNetwork(3,3,2,activation='relu')\n",
    "print(relu_model.Actfunc)\n",
    "print(relu_model.Der_Actfunc)"
   ]
  },
  {
   "cell_type": "code",
   "execution_count": 19,
   "metadata": {},
   "outputs": [
    {
     "name": "stdout",
     "output_type": "stream",
     "text": [
      "[0.         0.83161399]\n"
     ]
    }
   ],
   "source": [
    "print(relu_model.predict(inp))"
   ]
  },
  {
   "cell_type": "code",
   "execution_count": 20,
   "metadata": {},
   "outputs": [
    {
     "name": "stdout",
     "output_type": "stream",
     "text": [
      "one pass\n"
     ]
    }
   ],
   "source": [
    "relu_model.train(inp,targ)"
   ]
  },
  {
   "cell_type": "markdown",
   "metadata": {},
   "source": [
    "## testing batch training"
   ]
  },
  {
   "cell_type": "code",
   "execution_count": 21,
   "metadata": {},
   "outputs": [],
   "source": [
    "# scaling up input \n",
    "inp_many_more = np.tile(inp,11).reshape(-1,3)\n",
    "targ_many_more = np.tile(targ,11).reshape(-1,2)"
   ]
  },
  {
   "cell_type": "code",
   "execution_count": 22,
   "metadata": {
    "jupyter": {
     "outputs_hidden": false
    },
    "pycharm": {
     "name": "#%%\n"
    }
   },
   "outputs": [
    {
     "name": "stdout",
     "output_type": "stream",
     "text": [
      "[[ 0.5004429   0.19916799]\n",
      " [-0.29169784 -0.31559512]\n",
      " [ 0.21092038  0.07948477]\n",
      " [ 0.29008506  0.29008506]]\n",
      "one batch\n",
      "one batch\n",
      "one batch\n",
      "one batch\n",
      "[[ 0.50102965  0.19814578]\n",
      " [-0.28056113 -0.33499529]\n",
      " [ 0.22527011  0.05448392]\n",
      " [ 0.2790798   0.2790798 ]]\n"
     ]
    }
   ],
   "source": [
    "print(model.W)\n",
    "model.train(inp_many_more,targ_many_more,numbatches=4,batchsize=0)\n",
    "print(model.W)"
   ]
  },
  {
   "cell_type": "code",
   "execution_count": 23,
   "metadata": {},
   "outputs": [
    {
     "name": "stdout",
     "output_type": "stream",
     "text": [
      "[[ 0.10056061  0.30547053 -0.19978581]\n",
      " [-0.39887878  0.11094105  0.20042838]\n",
      " [-0.09915908 -0.19179421  0.40032128]\n",
      " [ 0.20156133  0.20156133  0.20156133]]\n",
      "one batch\n",
      "one batch\n",
      "one batch\n",
      "one batch\n",
      "[[ 0.10096551  0.30829845 -0.19950668]\n",
      " [-0.39806898  0.11659691  0.20098663]\n",
      " [-0.09855174 -0.18755232  0.40073997]\n",
      " [ 0.20243932  0.20243932  0.20243932]]\n"
     ]
    }
   ],
   "source": [
    "print(model.w)\n",
    "model.train(inp_many_more,targ_many_more,batchsize=3)\n",
    "print(model.w)"
   ]
  },
  {
   "cell_type": "code",
   "execution_count": 24,
   "metadata": {
    "pycharm": {
     "name": "#%%\n"
    }
   },
   "outputs": [
    {
     "name": "stdout",
     "output_type": "stream",
     "text": [
      "[[-0.2351093  -0.41444763 -0.36468061]\n",
      " [ 0.2591487  -0.74616784 -0.32661409]\n",
      " [ 0.06944382 -0.0842686  -0.28649359]\n",
      " [-0.5672962  -0.5672962  -0.5672962 ]]\n",
      "one batch\n",
      "one batch\n",
      "one batch\n",
      "one batch\n",
      "[[-0.39648679 -0.85653124 -0.24167378]\n",
      " [-0.06360627 -1.63033507 -0.08060044]\n",
      " [-0.1726224  -0.74739402 -0.10198335]\n",
      " [-0.68740977 -0.68740977 -0.68740977]]\n"
     ]
    }
   ],
   "source": [
    "print(relu_model.w)\n",
    "relu_model.train(inp_many_more,targ_many_more,batchsize=3)\n",
    "print(relu_model.w)"
   ]
  }
 ],
 "metadata": {
  "kernelspec": {
   "display_name": "Python 3",
   "language": "python",
   "name": "python3"
  },
  "language_info": {
   "codemirror_mode": {
    "name": "ipython",
    "version": 3
   },
   "file_extension": ".py",
   "mimetype": "text/x-python",
   "name": "python",
   "nbconvert_exporter": "python",
   "pygments_lexer": "ipython3",
   "version": "3.8.5"
  },
  "toc-autonumbering": false,
  "toc-showcode": false,
  "toc-showmarkdowntxt": false,
  "toc-showtags": false
 },
 "nbformat": 4,
 "nbformat_minor": 4
}