{
 "cells": [
  {
   "cell_type": "code",
   "execution_count": 1,
   "metadata": {},
   "outputs": [],
   "source": [
    "import os\n",
    "import sys\n",
    "import numpy as np\n",
    "\n",
    "#https://stackoverflow.com/questions/34478398/import-local-function-from-a-module-housed-in-another-directory-with-relative-im/44486700\n",
    "module_path= os.path.abspath(os.path.join('..',\"python\"))\n",
    "\n",
    "if module_path not in sys.path:\n",
    "    sys.path.append(module_path)\n",
    "\n",
    "from neural_net import NeuralNetwork"
   ]
  },
  {
   "cell_type": "markdown",
   "metadata": {
    "pycharm": {
     "name": "#%% md\n"
    }
   },
   "source": [
    "## subsantiating a model"
   ]
  },
  {
   "cell_type": "code",
   "execution_count": 2,
   "metadata": {
    "collapsed": false,
    "jupyter": {
     "outputs_hidden": false
    },
    "pycharm": {
     "name": "#%%\n"
    }
   },
   "outputs": [],
   "source": [
    "model =NeuralNetwork(3,3,2)"
   ]
  },
  {
   "cell_type": "markdown",
   "metadata": {},
   "source": [
    "## verifying weights"
   ]
  },
  {
   "cell_type": "code",
   "execution_count": 3,
   "metadata": {
    "collapsed": false,
    "jupyter": {
     "outputs_hidden": false
    },
    "pycharm": {
     "name": "#%%\n"
    }
   },
   "outputs": [
    {
     "data": {
      "text/plain": [
       "array([[-0.470476  ,  0.01328629],\n",
       "       [-0.36249187,  0.38702372],\n",
       "       [-0.04420145,  0.24850932],\n",
       "       [-0.46560847, -0.46560847]])"
      ]
     },
     "execution_count": 3,
     "metadata": {},
     "output_type": "execute_result"
    }
   ],
   "source": [
    "model.W"
   ]
  },
  {
   "cell_type": "markdown",
   "metadata": {},
   "source": [
    "## testing predict function on  known information\n",
    "\n",
    "**Steps**\n",
    "1. update weights to known point\n",
    "2. predict using input\n",
    "3. test output"
   ]
  },
  {
   "cell_type": "code",
   "execution_count": 4,
   "metadata": {
    "collapsed": false,
    "jupyter": {
     "outputs_hidden": false
    },
    "pycharm": {
     "name": "#%%\n"
    }
   },
   "outputs": [],
   "source": [
    "w = np.array([[.1,.3,-.2],[-.4,.1,.2],[-.1,-.2,.4],[.2,.2,.2]])\n",
    "W = np.array([[.5,.2],[-.3,-.3],[.2,.1],[.3,.3]])\n",
    "inp = np.array([4,8,6])\n",
    "targ = np.array([.65,.4])"
   ]
  },
  {
   "cell_type": "markdown",
   "metadata": {},
   "source": [
    "expected output array([0.5729277 , 0.54618944])\n",
    "expected error 0.0023885891017721714"
   ]
  },
  {
   "cell_type": "code",
   "execution_count": 5,
   "metadata": {
    "collapsed": false,
    "jupyter": {
     "outputs_hidden": false
    },
    "pycharm": {
     "name": "#%%\n"
    }
   },
   "outputs": [],
   "source": [
    "model.w = w\n",
    "model.W = W"
   ]
  },
  {
   "cell_type": "code",
   "execution_count": 6,
   "metadata": {
    "collapsed": false,
    "jupyter": {
     "outputs_hidden": false
    },
    "pycharm": {
     "name": "#%%\n"
    }
   },
   "outputs": [
    {
     "data": {
      "text/plain": [
       "array([0.5729277 , 0.54618944])"
      ]
     },
     "execution_count": 6,
     "metadata": {},
     "output_type": "execute_result"
    }
   ],
   "source": [
    "model.predict(inp)"
   ]
  },
  {
   "cell_type": "code",
   "execution_count": 7,
   "metadata": {
    "collapsed": false,
    "jupyter": {
     "outputs_hidden": false
    },
    "pycharm": {
     "name": "#%%\n"
    }
   },
   "outputs": [
    {
     "data": {
      "text/plain": [
       "0.0023885891017721714"
      ]
     },
     "execution_count": 7,
     "metadata": {},
     "output_type": "execute_result"
    }
   ],
   "source": [
    "model.predict(inp,targ)"
   ]
  },
  {
   "cell_type": "markdown",
   "metadata": {
    "pycharm": {
     "name": "#%% md\n"
    }
   },
   "source": [
    "## testing training methode on known informaiton\n",
    "\n",
    "using our established weights we would expect one pass of training with an alpha of .2 to be\n",
    "``` python\n",
    "array([[ 0.10006569,  0.30081998, -0.1999963 ],  \n",
    "       [-0.39986862,  0.10163996,  0.2000074 ],  \n",
    "       [-0.09990147, -0.19877003,  0.40000555],  \n",
    "       [ 0.20022234,  0.20022234,  0.20022234]])\n",
    "```  "
   ]
  },
  {
   "cell_type": "code",
   "execution_count": 8,
   "metadata": {
    "collapsed": false,
    "jupyter": {
     "outputs_hidden": false
    },
    "pycharm": {
     "name": "#%%\n"
    }
   },
   "outputs": [
    {
     "name": "stdout",
     "output_type": "stream",
     "text": [
      "one pass\n"
     ]
    },
    {
     "data": {
      "text/plain": [
       "array([[ 0.10006569,  0.30081998, -0.1999963 ],\n",
       "       [-0.39986862,  0.10163996,  0.2000074 ],\n",
       "       [-0.09990147, -0.19877003,  0.40000555],\n",
       "       [ 0.20022234,  0.20022234,  0.20022234]])"
      ]
     },
     "execution_count": 8,
     "metadata": {},
     "output_type": "execute_result"
    }
   ],
   "source": [
    "model.get_gradients(inp,targ)\n",
    "model.w"
   ]
  },
  {
   "cell_type": "code",
   "execution_count": 9,
   "metadata": {
    "collapsed": false,
    "jupyter": {
     "outputs_hidden": false
    },
    "pycharm": {
     "name": "#%%\n"
    }
   },
   "outputs": [
    {
     "name": "stdout",
     "output_type": "stream",
     "text": [
      "one pass\n"
     ]
    }
   ],
   "source": [
    "# running training method\n",
    "model.train(inp,targ)"
   ]
  },
  {
   "cell_type": "markdown",
   "metadata": {
    "pycharm": {
     "name": "#%% md\n"
    }
   },
   "source": [
    "## testing on multiple inputs at once"
   ]
  },
  {
   "cell_type": "code",
   "execution_count": 10,
   "metadata": {
    "collapsed": false,
    "jupyter": {
     "outputs_hidden": false
    },
    "pycharm": {
     "name": "#%%\n"
    }
   },
   "outputs": [],
   "source": [
    "inp_many = np.tile(inp,3).reshape(3,-1)\n",
    "targ_many = np.tile(targ,3).reshape(3,-1)"
   ]
  },
  {
   "cell_type": "code",
   "execution_count": 11,
   "metadata": {
    "collapsed": false,
    "jupyter": {
     "outputs_hidden": false
    },
    "pycharm": {
     "name": "#%%\n"
    }
   },
   "outputs": [
    {
     "name": "stdout",
     "output_type": "stream",
     "text": [
      "[4 8 6] [0.65 0.4 ]\n",
      "[4 8 6] [0.65 0.4 ]\n",
      "[4 8 6] [0.65 0.4 ]\n"
     ]
    }
   ],
   "source": [
    "for x, y in zip(inp_many, targ_many):\n",
    "    print(x,y)"
   ]
  },
  {
   "cell_type": "code",
   "execution_count": 12,
   "metadata": {
    "collapsed": false,
    "jupyter": {
     "outputs_hidden": false
    },
    "pycharm": {
     "name": "#%%\n"
    }
   },
   "outputs": [
    {
     "name": "stdout",
     "output_type": "stream",
     "text": [
      "one pass\n",
      "one pass\n",
      "one pass\n"
     ]
    }
   ],
   "source": [
    "for x,y in zip(inp_many,targ_many):\n",
    "    model.train(x, y)"
   ]
  },
  {
   "cell_type": "code",
   "execution_count": 13,
   "metadata": {
    "collapsed": false,
    "jupyter": {
     "outputs_hidden": false
    },
    "pycharm": {
     "name": "#%%\n"
    }
   },
   "outputs": [
    {
     "name": "stdout",
     "output_type": "stream",
     "text": [
      "one pass\n",
      "one pass\n",
      "one pass\n",
      "one epoch\n"
     ]
    }
   ],
   "source": [
    "model.train(inp_many, targ_many)"
   ]
  },
  {
   "cell_type": "markdown",
   "metadata": {
    "pycharm": {
     "name": "#%% md\n"
    }
   },
   "source": []
  },
  {
   "cell_type": "markdown",
   "metadata": {},
   "source": [
    "## testing other activation functions\n"
   ]
  },
  {
   "cell_type": "markdown",
   "metadata": {},
   "source": [
    "### hyperbolic tangent"
   ]
  },
  {
   "cell_type": "code",
   "execution_count": 14,
   "metadata": {},
   "outputs": [],
   "source": [
    "hyberbolic_model = NeuralNetwork(3,3,2,activation='hyperbolic')"
   ]
  },
  {
   "cell_type": "code",
   "execution_count": 15,
   "metadata": {},
   "outputs": [
    {
     "name": "stdout",
     "output_type": "stream",
     "text": [
      "<function NeuralNetwork.act_hyperbolic at 0x0000025FDB09FB80>\n",
      "<function NeuralNetwork.der_hyperbolic at 0x0000025FDB09FAF0>\n"
     ]
    }
   ],
   "source": [
    "print(hyberbolic_model.Actfunc)\n",
    "print(hyberbolic_model.Der_Actfunc)"
   ]
  },
  {
   "cell_type": "code",
   "execution_count": 16,
   "metadata": {},
   "outputs": [
    {
     "data": {
      "text/plain": [
       "array([ 0.24970897, -0.11919236])"
      ]
     },
     "execution_count": 16,
     "metadata": {},
     "output_type": "execute_result"
    }
   ],
   "source": [
    "hyberbolic_model.predict(inp)"
   ]
  },
  {
   "cell_type": "code",
   "execution_count": 17,
   "metadata": {},
   "outputs": [
    {
     "name": "stdout",
     "output_type": "stream",
     "text": [
      "one pass\n"
     ]
    }
   ],
   "source": [
    "hyberbolic_model.train(inp,targ)"
   ]
  },
  {
   "cell_type": "markdown",
   "metadata": {},
   "source": [
    "### relu"
   ]
  },
  {
   "cell_type": "code",
   "execution_count": 18,
   "metadata": {},
   "outputs": [
    {
     "name": "stdout",
     "output_type": "stream",
     "text": [
      "<function NeuralNetwork.act_relu at 0x0000025FDB09F940>\n",
      "<function NeuralNetwork.der_relu at 0x0000025FDB09F8B0>\n"
     ]
    }
   ],
   "source": [
    "relu_model = NeuralNetwork(3,3,2,activation='relu')\n",
    "print(relu_model.Actfunc)\n",
    "print(relu_model.Der_Actfunc)"
   ]
  },
  {
   "cell_type": "code",
   "execution_count": 19,
   "metadata": {},
   "outputs": [
    {
     "data": {
      "text/plain": [
       "array([0., 0.])"
      ]
     },
     "execution_count": 19,
     "metadata": {},
     "output_type": "execute_result"
    }
   ],
   "source": [
    "relu_model.predict(inp)"
   ]
  },
  {
   "cell_type": "code",
   "execution_count": 22,
   "metadata": {},
   "outputs": [
    {
     "name": "stdout",
     "output_type": "stream",
     "text": [
      "one pass\n"
     ]
    }
   ],
   "source": [
    "relu_model.train(inp,targ)"
   ]
  },
  {
   "cell_type": "markdown",
   "metadata": {},
   "source": [
    "## testing batch training"
   ]
  },
  {
   "cell_type": "code",
   "execution_count": 28,
   "metadata": {},
   "outputs": [],
   "source": [
    "# scaling up input \n",
    "inp_many_more = np.tile(inp,11).reshape(-1,3)\n",
    "targ_many_more = np.tile(targ,11).reshape(-1,2)"
   ]
  },
  {
   "cell_type": "code",
   "execution_count": 33,
   "metadata": {
    "collapsed": false,
    "jupyter": {
     "outputs_hidden": false
    },
    "pycharm": {
     "name": "#%%\n"
    }
   },
   "outputs": [
    {
     "name": "stdout",
     "output_type": "stream",
     "text": [
      "[[ 0.50375217  0.19424675]\n",
      " [-0.22811278 -0.41009538]\n",
      " [ 0.2895082  -0.03766354]\n",
      " [ 0.25026437  0.25026437]]\n",
      "one batch\n",
      "one batch\n",
      "one batch\n",
      "one batch\n",
      "[[ 0.50423538  0.19365861]\n",
      " [-0.21884342 -0.42137775]\n",
      " [ 0.30043806 -0.05096741]\n",
      " [ 0.24781667  0.24781667]]\n"
     ]
    }
   ],
   "source": [
    "print(model.W)\n",
    "model.train(inp_many_more,targ_many_more,numbatches=4,batchsize=0)\n",
    "print(model.W)"
   ]
  },
  {
   "cell_type": "code",
   "execution_count": 34,
   "metadata": {},
   "outputs": [
    {
     "name": "stdout",
     "output_type": "stream",
     "text": [
      "[[ 0.1033657   0.31935062 -0.19740627]\n",
      " [-0.3932686   0.13870124  0.20518745]\n",
      " [-0.09495145 -0.17097407  0.40389059]\n",
      " [ 0.20632751  0.20632751  0.20632751]]\n",
      "one batch\n",
      "one batch\n",
      "one batch\n",
      "one batch\n",
      "[[ 0.10385439  0.32103351 -0.19695668]\n",
      " [-0.39229122  0.14206701  0.20608664]\n",
      " [-0.09421842 -0.16844974  0.40456498]\n",
      " [ 0.2069828   0.2069828   0.2069828 ]]\n"
     ]
    }
   ],
   "source": [
    "print(model.w)\n",
    "model.train(inp_many_more,targ_many_more,batchsize=3)\n",
    "print(model.w)"
   ]
  }
 ],
 "metadata": {
  "kernelspec": {
   "display_name": "Python 3",
   "language": "python",
   "name": "python3"
  },
  "language_info": {
   "codemirror_mode": {
    "name": "ipython",
    "version": 3
   },
   "file_extension": ".py",
   "mimetype": "text/x-python",
   "name": "python",
   "nbconvert_exporter": "python",
   "pygments_lexer": "ipython3",
   "version": "3.8.5"
  },
  "toc-autonumbering": false,
  "toc-showcode": false,
  "toc-showmarkdowntxt": false,
  "toc-showtags": false
 },
 "nbformat": 4,
 "nbformat_minor": 4
}
