{
 "cells": [
  {
   "cell_type": "markdown",
   "metadata": {
    "pycharm": {
     "name": "#%% md\n"
    }
   },
   "source": [
    "# predicting baseball players salary\n",
    "\n",
    "In this notebook we we utilize our neural network class to predict a baseball players salary\n",
    "\n",
    "we will take the following steps\n",
    "1. EDA - we will import and inspect our data\n",
    "2. DataPrep - we will make any necessary modifications to our data\n",
    "3. Modeling -\n",
    "    4. we will initialize our Neuralnetwork\n",
    "    5. test the network before training\n",
    "    6. run a single epoch\n",
    "    7. test how much that improves performance\n",
    "    8. run a series of epochs test the final model.\n"
   ]
  },
  {
   "cell_type": "code",
   "execution_count": 1,
   "metadata": {
    "jupyter": {
     "outputs_hidden": false
    },
    "pycharm": {
     "name": "#%%\n"
    }
   },
   "outputs": [],
   "source": [
    "# import os and our neural network\n",
    "import itertools\n",
    "import os\n",
    "import pprint\n",
    "import sys\n",
    "module_path= os.path.abspath(os.path.join('..',\"python\"))\n",
    "\n",
    "if module_path not in sys.path:\n",
    "    sys.path.append(module_path)\n",
    "\n",
    "from neural_net import NeuralNetwork\n",
    "#import packages for data frames\n",
    "import numpy as np\n",
    "import pandas as pd\n",
    "from patsy import dmatrices\n",
    "\n",
    "#import pyplot and seaborn for graph creating\n",
    "import matplotlib.pyplot as plt\n",
    "import seaborn as sns\n",
    "\n",
    "#EDA support\n",
    "import sweetviz as sv\n",
    "\n",
    "#sklearn support\n",
    "from sklearn.model_selection import train_test_split\n",
    "from sklearn.utils import shuffle"
   ]
  },
  {
   "cell_type": "markdown",
   "metadata": {
    "pycharm": {
     "name": "#%% md\n"
    }
   },
   "source": [
    "## 1. EDA"
   ]
  },
  {
   "cell_type": "code",
   "execution_count": 2,
   "metadata": {
    "jupyter": {
     "outputs_hidden": false
    },
    "pycharm": {
     "name": "#%%\n"
    }
   },
   "outputs": [
    {
     "data": {
      "text/plain": "   AtBat  Hits  HmRun  Runs  RBI  Walks  Years  CAtBat  CHits  CHmRun  CRuns  \\\n0    315    81      7    24   38     39     14    3449    835      69    321   \n1    479   130     18    66   72     76      3    1624    457      63    224   \n2    496   141     20    65   78     37     11    5628   1575     225    828   \n3    321    87     10    39   42     30      2     396    101      12     48   \n4    594   169      4    74   51     35     11    4408   1133      19    501   \n\n   CRBI  CWalks League Division  PutOuts  Assists  Errors  Salary NewLeague  \n0   414     375      N        W      632       43      10   475.0         N  \n1   266     263      A        W      880       82      14   480.0         A  \n2   838     354      N        E      200       11       3   500.0         N  \n3    46      33      N        E      805       40       4    91.5         N  \n4   336     194      A        W      282      421      25   750.0         A  ",
      "text/html": "<div>\n<style scoped>\n    .dataframe tbody tr th:only-of-type {\n        vertical-align: middle;\n    }\n\n    .dataframe tbody tr th {\n        vertical-align: top;\n    }\n\n    .dataframe thead th {\n        text-align: right;\n    }\n</style>\n<table border=\"1\" class=\"dataframe\">\n  <thead>\n    <tr style=\"text-align: right;\">\n      <th></th>\n      <th>AtBat</th>\n      <th>Hits</th>\n      <th>HmRun</th>\n      <th>Runs</th>\n      <th>RBI</th>\n      <th>Walks</th>\n      <th>Years</th>\n      <th>CAtBat</th>\n      <th>CHits</th>\n      <th>CHmRun</th>\n      <th>CRuns</th>\n      <th>CRBI</th>\n      <th>CWalks</th>\n      <th>League</th>\n      <th>Division</th>\n      <th>PutOuts</th>\n      <th>Assists</th>\n      <th>Errors</th>\n      <th>Salary</th>\n      <th>NewLeague</th>\n    </tr>\n  </thead>\n  <tbody>\n    <tr>\n      <th>0</th>\n      <td>315</td>\n      <td>81</td>\n      <td>7</td>\n      <td>24</td>\n      <td>38</td>\n      <td>39</td>\n      <td>14</td>\n      <td>3449</td>\n      <td>835</td>\n      <td>69</td>\n      <td>321</td>\n      <td>414</td>\n      <td>375</td>\n      <td>N</td>\n      <td>W</td>\n      <td>632</td>\n      <td>43</td>\n      <td>10</td>\n      <td>475.0</td>\n      <td>N</td>\n    </tr>\n    <tr>\n      <th>1</th>\n      <td>479</td>\n      <td>130</td>\n      <td>18</td>\n      <td>66</td>\n      <td>72</td>\n      <td>76</td>\n      <td>3</td>\n      <td>1624</td>\n      <td>457</td>\n      <td>63</td>\n      <td>224</td>\n      <td>266</td>\n      <td>263</td>\n      <td>A</td>\n      <td>W</td>\n      <td>880</td>\n      <td>82</td>\n      <td>14</td>\n      <td>480.0</td>\n      <td>A</td>\n    </tr>\n    <tr>\n      <th>2</th>\n      <td>496</td>\n      <td>141</td>\n      <td>20</td>\n      <td>65</td>\n      <td>78</td>\n      <td>37</td>\n      <td>11</td>\n      <td>5628</td>\n      <td>1575</td>\n      <td>225</td>\n      <td>828</td>\n      <td>838</td>\n      <td>354</td>\n      <td>N</td>\n      <td>E</td>\n      <td>200</td>\n      <td>11</td>\n      <td>3</td>\n      <td>500.0</td>\n      <td>N</td>\n    </tr>\n    <tr>\n      <th>3</th>\n      <td>321</td>\n      <td>87</td>\n      <td>10</td>\n      <td>39</td>\n      <td>42</td>\n      <td>30</td>\n      <td>2</td>\n      <td>396</td>\n      <td>101</td>\n      <td>12</td>\n      <td>48</td>\n      <td>46</td>\n      <td>33</td>\n      <td>N</td>\n      <td>E</td>\n      <td>805</td>\n      <td>40</td>\n      <td>4</td>\n      <td>91.5</td>\n      <td>N</td>\n    </tr>\n    <tr>\n      <th>4</th>\n      <td>594</td>\n      <td>169</td>\n      <td>4</td>\n      <td>74</td>\n      <td>51</td>\n      <td>35</td>\n      <td>11</td>\n      <td>4408</td>\n      <td>1133</td>\n      <td>19</td>\n      <td>501</td>\n      <td>336</td>\n      <td>194</td>\n      <td>A</td>\n      <td>W</td>\n      <td>282</td>\n      <td>421</td>\n      <td>25</td>\n      <td>750.0</td>\n      <td>A</td>\n    </tr>\n  </tbody>\n</table>\n</div>"
     },
     "execution_count": 2,
     "metadata": {},
     "output_type": "execute_result"
    }
   ],
   "source": [
    "data = os.path.join('..','data','Hitters Dataset Clean.csv')\n",
    "df = pd.read_csv(data)\n",
    "df.head()"
   ]
  },
  {
   "cell_type": "code",
   "execution_count": 3,
   "metadata": {
    "jupyter": {
     "outputs_hidden": false
    },
    "pycharm": {
     "name": "#%%\n"
    }
   },
   "outputs": [
    {
     "name": "stdout",
     "output_type": "stream",
     "text": [
      "<class 'pandas.core.frame.DataFrame'>\n",
      "RangeIndex: 263 entries, 0 to 262\n",
      "Data columns (total 20 columns):\n",
      " #   Column     Non-Null Count  Dtype  \n",
      "---  ------     --------------  -----  \n",
      " 0   AtBat      263 non-null    int64  \n",
      " 1   Hits       263 non-null    int64  \n",
      " 2   HmRun      263 non-null    int64  \n",
      " 3   Runs       263 non-null    int64  \n",
      " 4   RBI        263 non-null    int64  \n",
      " 5   Walks      263 non-null    int64  \n",
      " 6   Years      263 non-null    int64  \n",
      " 7   CAtBat     263 non-null    int64  \n",
      " 8   CHits      263 non-null    int64  \n",
      " 9   CHmRun     263 non-null    int64  \n",
      " 10  CRuns      263 non-null    int64  \n",
      " 11  CRBI       263 non-null    int64  \n",
      " 12  CWalks     263 non-null    int64  \n",
      " 13  League     263 non-null    object \n",
      " 14  Division   263 non-null    object \n",
      " 15  PutOuts    263 non-null    int64  \n",
      " 16  Assists    263 non-null    int64  \n",
      " 17  Errors     263 non-null    int64  \n",
      " 18  Salary     263 non-null    float64\n",
      " 19  NewLeague  263 non-null    object \n",
      "dtypes: float64(1), int64(16), object(3)\n",
      "memory usage: 41.2+ KB\n"
     ]
    }
   ],
   "source": [
    "df.info()"
   ]
  },
  {
   "cell_type": "markdown",
   "metadata": {},
   "source": [
    "running a sweet viz eda"
   ]
  },
  {
   "cell_type": "code",
   "execution_count": 4,
   "metadata": {
    "jupyter": {
     "outputs_hidden": false
    },
    "pycharm": {
     "name": "#%%\n"
    }
   },
   "outputs": [],
   "source": [
    "# Analyzing data\n",
    "# report=sv.analyze(df,target_feat='Salary' )"
   ]
  },
  {
   "cell_type": "code",
   "execution_count": 5,
   "metadata": {
    "jupyter": {
     "outputs_hidden": false
    },
    "pycharm": {
     "name": "#%%\n"
    }
   },
   "outputs": [],
   "source": [
    "# Generating repor\n",
    "# report.show_notebook(w=1000)"
   ]
  },
  {
   "cell_type": "markdown",
   "metadata": {},
   "source": [
    "**correlation plots**\n"
   ]
  },
  {
   "cell_type": "code",
   "execution_count": 6,
   "metadata": {
    "jupyter": {
     "outputs_hidden": false
    },
    "pycharm": {
     "name": "#%%\n"
    }
   },
   "outputs": [
    {
     "data": {
      "text/plain": "<Figure size 1008x720 with 2 Axes>",
      "image/png": "[encoded data removed]"
     },
     "metadata": {
      "needs_background": "light"
     },
     "output_type": "display_data"
    }
   ],
   "source": [
    "plt.figure(figsize=(14,10))\n",
    "sns.heatmap(df.select_dtypes(exclude=['object']).corr(),cmap='coolwarm',annot=False)\n",
    "plt.xticks(rotation=40 , rotation_mode='anchor',ha=\"right\");"
   ]
  },
  {
   "cell_type": "markdown",
   "metadata": {
    "pycharm": {
     "name": "#%% md\n"
    }
   },
   "source": [
    "**conclusions:**\n",
    "General:\n",
    "None of or records are missing any values.\n",
    "\n",
    "target:\n",
    "- our target value \"Salary\" is right skewed which intuitively makes sense very one can't be a super star\n",
    "- all of of our numerical values have a positive correlation to salary but none have a strong correlation\n",
    "\n",
    "numerical predictors:\n",
    "- we will standardize all of these predictors\n",
    "\n",
    "categorical:\n",
    "- are categorical are well distributed\n",
    "- we will dummy them for use in modeling"
   ]
  },
  {
   "cell_type": "markdown",
   "metadata": {},
   "source": [
    "## 2. Data prep"
   ]
  },
  {
   "cell_type": "code",
   "execution_count": 6,
   "metadata": {
    "jupyter": {
     "outputs_hidden": false
    },
    "pycharm": {
     "name": "#%%\n"
    }
   },
   "outputs": [],
   "source": [
    "\n"
   ]
  },
  {
   "cell_type": "code",
   "execution_count": 7,
   "metadata": {
    "jupyter": {
     "outputs_hidden": false
    },
    "pycharm": {
     "name": "#%%\n"
    }
   },
   "outputs": [
    {
     "name": "stdout",
     "output_type": "stream",
     "text": [
      "Salary ~ -1 + center(AtBat) + center(Hits) + center(HmRun) + center(Runs) + center(RBI) + center(Walks) + center(Years) + center(CAtBat) + center(CHits) + center(CHmRun) + center(CRuns) + center(CRBI) + center(CWalks) + center(PutOuts) + center(Assists) + center(Errors) + center(Salary) + C(League) + C(Division) + C(NewLeague)\n"
     ]
    }
   ],
   "source": [
    "formula =\"Salary ~ -1\"\n",
    "for num in df.select_dtypes(exclude=['object']):\n",
    "    formula += f' + center({num})'\n",
    "for ob in df.select_dtypes(include=['object']):\n",
    "    formula += f' + C({ob})'\n",
    "\n",
    "print(formula)"
   ]
  },
  {
   "cell_type": "code",
   "execution_count": 8,
   "metadata": {
    "jupyter": {
     "outputs_hidden": false
    },
    "pycharm": {
     "name": "#%%\n"
    }
   },
   "outputs": [
    {
     "data": {
      "text/plain": "DesignMatrix with shape (263, 21)\n  Columns:\n    ['C(League)[A]',\n     'C(League)[N]',\n     'C(Division)[T.W]',\n     'C(NewLeague)[T.N]',\n     'center(AtBat)',\n     'center(Hits)',\n     'center(HmRun)',\n     'center(Runs)',\n     'center(RBI)',\n     'center(Walks)',\n     'center(Years)',\n     'center(CAtBat)',\n     'center(CHits)',\n     'center(CHmRun)',\n     'center(CRuns)',\n     'center(CRBI)',\n     'center(CWalks)',\n     'center(PutOuts)',\n     'center(Assists)',\n     'center(Errors)',\n     'center(Salary)']\n  Terms:\n    'C(League)' (columns 0:2)\n    'C(Division)' (column 2)\n    'C(NewLeague)' (column 3)\n    'center(AtBat)' (column 4)\n    'center(Hits)' (column 5)\n    'center(HmRun)' (column 6)\n    'center(Runs)' (column 7)\n    'center(RBI)' (column 8)\n    'center(Walks)' (column 9)\n    'center(Years)' (column 10)\n    'center(CAtBat)' (column 11)\n    'center(CHits)' (column 12)\n    'center(CHmRun)' (column 13)\n    'center(CRuns)' (column 14)\n    'center(CRBI)' (column 15)\n    'center(CWalks)' (column 16)\n    'center(PutOuts)' (column 17)\n    'center(Assists)' (column 18)\n    'center(Errors)' (column 19)\n    'center(Salary)' (column 20)\n  (to view full data, use np.asarray(this_obj))"
     },
     "execution_count": 8,
     "metadata": {},
     "output_type": "execute_result"
    }
   ],
   "source": [
    "y, X = dmatrices(formula,data=df)\n",
    "X"
   ]
  },
  {
   "cell_type": "markdown",
   "metadata": {
    "jupyter": {
     "outputs_hidden": false
    },
    "pycharm": {
     "name": "#%%\n"
    }
   },
   "source": [
    "X = np.asarray(X)\n",
    "y = np.asarray(y)"
   ]
  },
  {
   "cell_type": "markdown",
   "metadata": {
    "pycharm": {
     "name": "#%% md\n"
    }
   },
   "source": [
    "## 3. model building\n",
    "\n",
    "we will take the following steps\n",
    "1. split data <- we will split \n",
    "2. substantiate model <- we will initialize our model\n",
    "3. predict <- we will get the base  error rate\n",
    "4. train <- we will do an initial run of 30 stochastic epochs"
   ]
  },
  {
   "cell_type": "code",
   "execution_count": 9,
   "metadata": {},
   "outputs": [],
   "source": [
    "# creating our test train split \n",
    "X_train, X_test, y_train, y_test = train_test_split( X, y, test_size=0.2, random_state=42)"
   ]
  },
  {
   "cell_type": "code",
   "execution_count": 10,
   "metadata": {
    "pycharm": {
     "name": "#%%\n"
    }
   },
   "outputs": [
    {
     "name": "stdout",
     "output_type": "stream",
     "text": [
      "[[ 1.00000000e+00  0.00000000e+00  1.00000000e+00  0.00000000e+00\n",
      "   1.43357414e+02  2.91711027e+01 -9.61977186e+00  3.25475285e+00\n",
      "  -4.48669202e+00 -2.91140684e+01 -5.31178707e+00 -1.61954373e+03\n",
      "  -4.51186312e+02 -6.62395437e+01 -2.32220532e+02 -2.50418251e+02\n",
      "  -2.36266160e+02 -2.97110266e+01  3.40239544e+02  1.34068441e+01\n",
      "  -3.60925882e+02]\n",
      " [ 0.00000000e+00  1.00000000e+00  0.00000000e+00  1.00000000e+00\n",
      "  -1.04642586e+02 -3.28288973e+01 -5.61977186e+00 -1.67452471e+01\n",
      "  -2.84866920e+01 -1.51140684e+01 -4.31178707e+00 -2.07754373e+03\n",
      "  -5.62186312e+02 -6.12395437e+01 -2.90220532e+02 -2.97418251e+02\n",
      "  -2.16266160e+02 -7.87110266e+01 -1.17760456e+02 -6.59315589e+00\n",
      "  -3.95925882e+02]\n",
      " [ 0.00000000e+00  1.00000000e+00  0.00000000e+00  1.00000000e+00\n",
      "   1.80357414e+02  5.01711027e+01  3.38022814e+00  1.52547529e+01\n",
      "   3.25133080e+01  8.85931559e-01 -2.31178707e+00 -2.99543726e+02\n",
      "  -8.61863118e+01 -1.12395437e+01 -9.62205323e+01 -1.44182510e+01\n",
      "  -1.26266160e+02  4.02889734e+01 -9.87604563e+01 -4.59315589e+00\n",
      "   1.26574118e+02]\n",
      " [ 0.00000000e+00  1.00000000e+00  0.00000000e+00  1.00000000e+00\n",
      "  -2.26425856e+01  2.17110266e+00 -2.61977186e+00  6.25475285e+00\n",
      "  -6.48669202e+00 -9.11406844e+00 -3.11787072e-01  3.57456274e+02\n",
      "   1.11813688e+02 -2.92395437e+01  8.97794677e+01 -8.14182510e+01\n",
      "  -9.22661597e+01 -6.27110266e+01 -1.11760456e+02 -3.59315589e+00\n",
      "   2.64074118e+02]\n",
      " [ 0.00000000e+00  1.00000000e+00  0.00000000e+00  1.00000000e+00\n",
      "  -1.48642586e+02 -3.78288973e+01 -4.61977186e+00 -5.74524715e+00\n",
      "  -1.64866920e+01  1.88593156e+00  7.68821293e+00  3.65345627e+03\n",
      "   9.38813688e+02  8.47604563e+01  6.57779468e+02  2.77581749e+02\n",
      "   5.59733840e+02 -2.39711027e+02 -6.47604563e+01 -5.93155894e-01\n",
      "  -8.59258821e+01]]\n"
     ]
    }
   ],
   "source": [
    "print(X_train[:5])"
   ]
  },
  {
   "cell_type": "markdown",
   "metadata": {},
   "source": [
    "Now that our data is fully prepared we will initialize a model train it for 30 epochs and see the effect on our total error."
   ]
  },
  {
   "cell_type": "code",
   "execution_count": 11,
   "metadata": {
    "jupyter": {
     "outputs_hidden": false
    },
    "pycharm": {
     "name": "#%%\n"
    }
   },
   "outputs": [
    {
     "data": {
      "text/plain": "[array([4.67916747e+09])]"
     },
     "execution_count": 11,
     "metadata": {},
     "output_type": "execute_result"
    }
   ],
   "source": [
    "#initilizing model \n",
    "model = NeuralNetwork(21,15,1, activation='relu')\n",
    "\n",
    "#getting error baseline\n",
    "\n",
    "errors =  [model.predict(X_train,y_train)]\n",
    "epochs = 0\n",
    "errors"
   ]
  },
  {
   "cell_type": "code",
   "execution_count": 12,
   "metadata": {
    "pycharm": {
     "name": "#%%\n"
    }
   },
   "outputs": [
    {
     "name": "stdout",
     "output_type": "stream",
     "text": [
      "[[ 0.10031685]\n",
      " [ 0.19361161]\n",
      " [ 0.06536559]\n",
      " [-0.23638338]\n",
      " [ 0.10956987]\n",
      " [-0.3193698 ]\n",
      " [-0.25439727]\n",
      " [-0.24678578]\n",
      " [-0.35281184]\n",
      " [ 0.02069923]\n",
      " [ 0.25754441]\n",
      " [-0.03006833]\n",
      " [-0.30047823]\n",
      " [ 0.01975607]\n",
      " [-0.45409532]\n",
      " [-0.06197011]]\n"
     ]
    }
   ],
   "source": [
    "print(model.W)"
   ]
  },
  {
   "cell_type": "markdown",
   "source": [],
   "metadata": {
    "collapsed": false
   }
  },
  {
   "cell_type": "code",
   "execution_count": 13,
   "metadata": {
    "pycharm": {
     "name": "#%%\n"
    }
   },
   "outputs": [
    {
     "name": "stdout",
     "output_type": "stream",
     "text": [
      "[4.67916747e+09]\n"
     ]
    }
   ],
   "source": [
    "print(model.predict(X_train,y_train))"
   ]
  },
  {
   "cell_type": "code",
   "source": [
    "X_train[-5:]"
   ],
   "metadata": {
    "collapsed": false,
    "pycharm": {
     "name": "#%%\n"
    }
   },
   "execution_count": 17,
   "outputs": [
    {
     "data": {
      "text/plain": "array([[ 1.00000000e+00,  0.00000000e+00,  0.00000000e+00,\n         0.00000000e+00,  2.25357414e+02,  6.01711027e+01,\n         6.38022814e+00,  1.82547529e+01,  5.05133080e+01,\n        -1.11406844e+00,  1.06882129e+01,  5.76645627e+03,\n         1.74181369e+03,  9.47604563e+01,  6.46779468e+02,\n         7.41581749e+02,  1.41733840e+02,  7.76288973e+02,\n         3.82395437e+01,  5.40684411e+00,  2.40741118e+02],\n       [ 0.00000000e+00,  1.00000000e+00,  1.00000000e+00,\n         1.00000000e+00, -1.66642586e+02, -5.58288973e+01,\n        -1.16197719e+01, -3.97452471e+01, -2.64866920e+01,\n        -1.11140684e+01,  1.66882129e+01,  1.13954563e+04,\n         3.53381369e+03,  9.07604563e+01,  1.80377947e+03,\n         9.83581749e+02,  1.30573384e+03,  2.32288973e+02,\n        -7.57604563e+01, -2.59315589e+00,  2.14074118e+02],\n       [ 1.00000000e+00,  0.00000000e+00,  1.00000000e+00,\n         0.00000000e+00,  1.07357414e+02,  3.01711027e+01,\n         1.33802281e+01,  2.12547529e+01,  4.45133080e+01,\n         1.98859316e+01, -4.31178707e+00, -2.06554373e+03,\n        -5.58186312e+02, -4.12395437e+01, -2.74220532e+02,\n        -2.20418251e+02, -1.89266160e+02, -1.33711027e+02,\n        -1.11760456e+02, -5.93155894e-01, -3.90925882e+02],\n       [ 1.00000000e+00,  0.00000000e+00,  0.00000000e+00,\n         0.00000000e+00, -6.06425856e+01, -4.82889734e+00,\n        -5.61977186e+00, -6.74524715e+00, -1.54866920e+01,\n        -1.11406844e+00,  7.68821293e+00,  1.68045627e+03,\n         4.70813688e+02,  7.60456274e-01,  2.19779468e+02,\n         9.05817490e+01,  6.47338403e+01, -7.97110266e+01,\n        -6.27604563e+01,  4.40684411e+00, -1.05925882e+02],\n       [ 1.00000000e+00,  0.00000000e+00,  1.00000000e+00,\n         0.00000000e+00,  4.13574144e+01, -8.82889734e+00,\n        -1.06197719e+01, -8.74524715e+00, -2.74866920e+01,\n        -1.21140684e+01, -3.31178707e+00, -2.03954373e+03,\n        -5.93186312e+02, -6.82395437e+01, -2.89220532e+02,\n        -2.99418251e+02, -2.12266160e+02, -1.27110266e+01,\n         2.96239544e+02,  7.40684411e+00, -4.48425882e+02]])"
     },
     "execution_count": 17,
     "metadata": {},
     "output_type": "execute_result"
    }
   ]
  },
  {
   "cell_type": "code",
   "execution_count": 21,
   "outputs": [
    {
     "ename": "KeyboardInterrupt",
     "evalue": "",
     "output_type": "error",
     "traceback": [
      "\u001B[1;31m---------------------------------------------------------------------------\u001B[0m",
      "\u001B[1;31mKeyboardInterrupt\u001B[0m                         Traceback (most recent call last)",
      "\u001B[1;32m<ipython-input-21-8c7f27b90ddc>\u001B[0m in \u001B[0;36m<module>\u001B[1;34m\u001B[0m\n\u001B[1;32m----> 1\u001B[1;33m \u001B[0mmodel\u001B[0m\u001B[1;33m.\u001B[0m\u001B[0mtrain\u001B[0m\u001B[1;33m(\u001B[0m\u001B[0mX_train\u001B[0m\u001B[1;33m[\u001B[0m\u001B[1;33m-\u001B[0m\u001B[1;36m5\u001B[0m\u001B[1;33m:\u001B[0m\u001B[1;33m]\u001B[0m\u001B[1;33m,\u001B[0m\u001B[0my_train\u001B[0m\u001B[1;33m[\u001B[0m\u001B[1;33m-\u001B[0m\u001B[1;36m5\u001B[0m\u001B[1;33m:\u001B[0m\u001B[1;33m]\u001B[0m\u001B[1;33m)\u001B[0m\u001B[1;33m\u001B[0m\u001B[1;33m\u001B[0m\u001B[0m\n\u001B[0m",
      "\u001B[1;32mC:\\yeshiva_dataanalystics\\capestone\\Neural_net\\python\\neural_net.py\u001B[0m in \u001B[0;36mtrain\u001B[1;34m(self, X, Y, batchsize, numbatches)\u001B[0m\n\u001B[0;32m    158\u001B[0m         \u001B[1;32melif\u001B[0m \u001B[0mbatchsize\u001B[0m \u001B[1;33m==\u001B[0m \u001B[1;36m1\u001B[0m\u001B[1;33m:\u001B[0m\u001B[1;33m\u001B[0m\u001B[1;33m\u001B[0m\u001B[0m\n\u001B[0;32m    159\u001B[0m             \u001B[1;32mfor\u001B[0m \u001B[0mx\u001B[0m\u001B[1;33m,\u001B[0m \u001B[0my\u001B[0m \u001B[1;32min\u001B[0m \u001B[0mzip\u001B[0m\u001B[1;33m(\u001B[0m\u001B[0mX\u001B[0m\u001B[1;33m,\u001B[0m \u001B[0mY\u001B[0m\u001B[1;33m)\u001B[0m\u001B[1;33m:\u001B[0m\u001B[1;33m\u001B[0m\u001B[1;33m\u001B[0m\u001B[0m\n\u001B[1;32m--> 160\u001B[1;33m                 \u001B[0mself\u001B[0m\u001B[1;33m.\u001B[0m\u001B[0mget_gradients\u001B[0m\u001B[1;33m(\u001B[0m\u001B[0mx\u001B[0m\u001B[1;33m,\u001B[0m \u001B[0my\u001B[0m\u001B[1;33m)\u001B[0m\u001B[1;33m\u001B[0m\u001B[1;33m\u001B[0m\u001B[0m\n\u001B[0m\u001B[0;32m    161\u001B[0m             \u001B[0mprint\u001B[0m\u001B[1;33m(\u001B[0m\u001B[1;34m\"one epoch\"\u001B[0m\u001B[1;33m)\u001B[0m\u001B[1;33m\u001B[0m\u001B[1;33m\u001B[0m\u001B[0m\n\u001B[0;32m    162\u001B[0m             \u001B[1;32mreturn\u001B[0m\u001B[1;33m\u001B[0m\u001B[1;33m\u001B[0m\u001B[0m\n",
      "\u001B[1;32mC:\\yeshiva_dataanalystics\\capestone\\Neural_net\\python\\neural_net.py\u001B[0m in \u001B[0;36mget_gradients\u001B[1;34m(self, x, y, batch)\u001B[0m\n\u001B[0;32m    135\u001B[0m         \u001B[1;31m# clean up gradient arrays and append bias's\u001B[0m\u001B[1;33m\u001B[0m\u001B[1;33m\u001B[0m\u001B[1;33m\u001B[0m\u001B[0m\n\u001B[0;32m    136\u001B[0m         \u001B[0mBo\u001B[0m\u001B[1;33m[\u001B[0m\u001B[1;33m:\u001B[0m\u001B[1;33m]\u001B[0m \u001B[1;33m=\u001B[0m \u001B[0mnp\u001B[0m\u001B[1;33m.\u001B[0m\u001B[0msum\u001B[0m\u001B[1;33m(\u001B[0m\u001B[0mBo\u001B[0m\u001B[1;33m)\u001B[0m\u001B[1;33m\u001B[0m\u001B[1;33m\u001B[0m\u001B[0m\n\u001B[1;32m--> 137\u001B[1;33m         \u001B[0mG\u001B[0m \u001B[1;33m=\u001B[0m \u001B[0mnp\u001B[0m\u001B[1;33m.\u001B[0m\u001B[0mappend\u001B[0m\u001B[1;33m(\u001B[0m\u001B[0mG\u001B[0m\u001B[1;33m,\u001B[0m\u001B[0mBo\u001B[0m\u001B[1;33m,\u001B[0m\u001B[0maxis\u001B[0m\u001B[1;33m=\u001B[0m\u001B[1;36m0\u001B[0m\u001B[1;33m)\u001B[0m\u001B[1;33m\u001B[0m\u001B[1;33m\u001B[0m\u001B[0m\n\u001B[0m\u001B[0;32m    138\u001B[0m         \u001B[0mg\u001B[0m \u001B[1;33m=\u001B[0m \u001B[0mnp\u001B[0m\u001B[1;33m.\u001B[0m\u001B[0mappend\u001B[0m\u001B[1;33m(\u001B[0m\u001B[0mg\u001B[0m\u001B[1;33m,\u001B[0m\u001B[0mBh\u001B[0m\u001B[1;33m,\u001B[0m\u001B[0maxis\u001B[0m\u001B[1;33m=\u001B[0m\u001B[1;36m0\u001B[0m\u001B[1;33m)\u001B[0m\u001B[1;33m\u001B[0m\u001B[1;33m\u001B[0m\u001B[0m\n\u001B[0;32m    139\u001B[0m \u001B[1;33m\u001B[0m\u001B[0m\n",
      "\u001B[1;32mC:\\yeshiva_dataanalystics\\capestone\\Neural_net\\python\\neural_net.py\u001B[0m in \u001B[0;36mget_gradients\u001B[1;34m(self, x, y, batch)\u001B[0m\n\u001B[0;32m    135\u001B[0m         \u001B[1;31m# clean up gradient arrays and append bias's\u001B[0m\u001B[1;33m\u001B[0m\u001B[1;33m\u001B[0m\u001B[1;33m\u001B[0m\u001B[0m\n\u001B[0;32m    136\u001B[0m         \u001B[0mBo\u001B[0m\u001B[1;33m[\u001B[0m\u001B[1;33m:\u001B[0m\u001B[1;33m]\u001B[0m \u001B[1;33m=\u001B[0m \u001B[0mnp\u001B[0m\u001B[1;33m.\u001B[0m\u001B[0msum\u001B[0m\u001B[1;33m(\u001B[0m\u001B[0mBo\u001B[0m\u001B[1;33m)\u001B[0m\u001B[1;33m\u001B[0m\u001B[1;33m\u001B[0m\u001B[0m\n\u001B[1;32m--> 137\u001B[1;33m         \u001B[0mG\u001B[0m \u001B[1;33m=\u001B[0m \u001B[0mnp\u001B[0m\u001B[1;33m.\u001B[0m\u001B[0mappend\u001B[0m\u001B[1;33m(\u001B[0m\u001B[0mG\u001B[0m\u001B[1;33m,\u001B[0m\u001B[0mBo\u001B[0m\u001B[1;33m,\u001B[0m\u001B[0maxis\u001B[0m\u001B[1;33m=\u001B[0m\u001B[1;36m0\u001B[0m\u001B[1;33m)\u001B[0m\u001B[1;33m\u001B[0m\u001B[1;33m\u001B[0m\u001B[0m\n\u001B[0m\u001B[0;32m    138\u001B[0m         \u001B[0mg\u001B[0m \u001B[1;33m=\u001B[0m \u001B[0mnp\u001B[0m\u001B[1;33m.\u001B[0m\u001B[0mappend\u001B[0m\u001B[1;33m(\u001B[0m\u001B[0mg\u001B[0m\u001B[1;33m,\u001B[0m\u001B[0mBh\u001B[0m\u001B[1;33m,\u001B[0m\u001B[0maxis\u001B[0m\u001B[1;33m=\u001B[0m\u001B[1;36m0\u001B[0m\u001B[1;33m)\u001B[0m\u001B[1;33m\u001B[0m\u001B[1;33m\u001B[0m\u001B[0m\n\u001B[0;32m    139\u001B[0m \u001B[1;33m\u001B[0m\u001B[0m\n",
      "\u001B[1;32m_pydevd_bundle\\pydevd_cython_win32_38_64.pyx\u001B[0m in \u001B[0;36m_pydevd_bundle.pydevd_cython_win32_38_64.SafeCallWrapper.__call__\u001B[1;34m()\u001B[0m\n",
      "\u001B[1;32m_pydevd_bundle\\pydevd_cython_win32_38_64.pyx\u001B[0m in \u001B[0;36m_pydevd_bundle.pydevd_cython_win32_38_64.PyDBFrame.trace_dispatch\u001B[1;34m()\u001B[0m\n",
      "\u001B[1;32m_pydevd_bundle\\pydevd_cython_win32_38_64.pyx\u001B[0m in \u001B[0;36m_pydevd_bundle.pydevd_cython_win32_38_64.PyDBFrame.trace_dispatch\u001B[1;34m()\u001B[0m\n",
      "\u001B[1;32m_pydevd_bundle\\pydevd_cython_win32_38_64.pyx\u001B[0m in \u001B[0;36m_pydevd_bundle.pydevd_cython_win32_38_64.PyDBFrame.trace_dispatch\u001B[1;34m()\u001B[0m\n",
      "\u001B[1;32m_pydevd_bundle\\pydevd_cython_win32_38_64.pyx\u001B[0m in \u001B[0;36m_pydevd_bundle.pydevd_cython_win32_38_64.PyDBFrame.do_wait_suspend\u001B[1;34m()\u001B[0m\n",
      "\u001B[1;32mC:\\Program Files\\JetBrains\\DataSpell 2021.3\\plugins\\python-ce\\helpers\\pydev\\pydevd.py\u001B[0m in \u001B[0;36mdo_wait_suspend\u001B[1;34m(self, thread, frame, event, arg, send_suspend_message, is_unhandled_exception)\u001B[0m\n\u001B[0;32m   1145\u001B[0m \u001B[1;33m\u001B[0m\u001B[0m\n\u001B[0;32m   1146\u001B[0m         \u001B[1;32mwith\u001B[0m \u001B[0mself\u001B[0m\u001B[1;33m.\u001B[0m\u001B[0m_threads_suspended_single_notification\u001B[0m\u001B[1;33m.\u001B[0m\u001B[0mnotify_thread_suspended\u001B[0m\u001B[1;33m(\u001B[0m\u001B[0mthread_id\u001B[0m\u001B[1;33m,\u001B[0m \u001B[0mstop_reason\u001B[0m\u001B[1;33m)\u001B[0m\u001B[1;33m:\u001B[0m\u001B[1;33m\u001B[0m\u001B[1;33m\u001B[0m\u001B[0m\n\u001B[1;32m-> 1147\u001B[1;33m             \u001B[0mself\u001B[0m\u001B[1;33m.\u001B[0m\u001B[0m_do_wait_suspend\u001B[0m\u001B[1;33m(\u001B[0m\u001B[0mthread\u001B[0m\u001B[1;33m,\u001B[0m \u001B[0mframe\u001B[0m\u001B[1;33m,\u001B[0m \u001B[0mevent\u001B[0m\u001B[1;33m,\u001B[0m \u001B[0marg\u001B[0m\u001B[1;33m,\u001B[0m \u001B[0msuspend_type\u001B[0m\u001B[1;33m,\u001B[0m \u001B[0mfrom_this_thread\u001B[0m\u001B[1;33m)\u001B[0m\u001B[1;33m\u001B[0m\u001B[1;33m\u001B[0m\u001B[0m\n\u001B[0m\u001B[0;32m   1148\u001B[0m \u001B[1;33m\u001B[0m\u001B[0m\n\u001B[0;32m   1149\u001B[0m     \u001B[1;32mdef\u001B[0m \u001B[0m_do_wait_suspend\u001B[0m\u001B[1;33m(\u001B[0m\u001B[0mself\u001B[0m\u001B[1;33m,\u001B[0m \u001B[0mthread\u001B[0m\u001B[1;33m,\u001B[0m \u001B[0mframe\u001B[0m\u001B[1;33m,\u001B[0m \u001B[0mevent\u001B[0m\u001B[1;33m,\u001B[0m \u001B[0marg\u001B[0m\u001B[1;33m,\u001B[0m \u001B[0msuspend_type\u001B[0m\u001B[1;33m,\u001B[0m \u001B[0mfrom_this_thread\u001B[0m\u001B[1;33m)\u001B[0m\u001B[1;33m:\u001B[0m\u001B[1;33m\u001B[0m\u001B[1;33m\u001B[0m\u001B[0m\n",
      "\u001B[1;32mC:\\Program Files\\JetBrains\\DataSpell 2021.3\\plugins\\python-ce\\helpers\\pydev\\pydevd.py\u001B[0m in \u001B[0;36m_do_wait_suspend\u001B[1;34m(self, thread, frame, event, arg, suspend_type, from_this_thread)\u001B[0m\n\u001B[0;32m   1160\u001B[0m \u001B[1;33m\u001B[0m\u001B[0m\n\u001B[0;32m   1161\u001B[0m                 \u001B[0mself\u001B[0m\u001B[1;33m.\u001B[0m\u001B[0mprocess_internal_commands\u001B[0m\u001B[1;33m(\u001B[0m\u001B[1;33m)\u001B[0m\u001B[1;33m\u001B[0m\u001B[1;33m\u001B[0m\u001B[0m\n\u001B[1;32m-> 1162\u001B[1;33m                 \u001B[0mtime\u001B[0m\u001B[1;33m.\u001B[0m\u001B[0msleep\u001B[0m\u001B[1;33m(\u001B[0m\u001B[1;36m0.01\u001B[0m\u001B[1;33m)\u001B[0m\u001B[1;33m\u001B[0m\u001B[1;33m\u001B[0m\u001B[0m\n\u001B[0m\u001B[0;32m   1163\u001B[0m \u001B[1;33m\u001B[0m\u001B[0m\n\u001B[0;32m   1164\u001B[0m         \u001B[0mself\u001B[0m\u001B[1;33m.\u001B[0m\u001B[0mcancel_async_evaluation\u001B[0m\u001B[1;33m(\u001B[0m\u001B[0mget_current_thread_id\u001B[0m\u001B[1;33m(\u001B[0m\u001B[0mthread\u001B[0m\u001B[1;33m)\u001B[0m\u001B[1;33m,\u001B[0m \u001B[0mstr\u001B[0m\u001B[1;33m(\u001B[0m\u001B[0mid\u001B[0m\u001B[1;33m(\u001B[0m\u001B[0mframe\u001B[0m\u001B[1;33m)\u001B[0m\u001B[1;33m)\u001B[0m\u001B[1;33m)\u001B[0m\u001B[1;33m\u001B[0m\u001B[1;33m\u001B[0m\u001B[0m\n",
      "\u001B[1;31mKeyboardInterrupt\u001B[0m: "
     ]
    }
   ],
   "source": [
    "model.train(X_train[-5:],y_train[-5:])"
   ],
   "metadata": {
    "collapsed": false,
    "pycharm": {
     "name": "#%%\n"
    }
   }
  }
 ],
 "metadata": {
  "kernelspec": {
   "display_name": "Python 3",
   "language": "python",
   "name": "python3"
  },
  "language_info": {
   "codemirror_mode": {
    "name": "ipython",
    "version": 3
   },
   "file_extension": ".py",
   "mimetype": "text/x-python",
   "name": "python",
   "nbconvert_exporter": "python",
   "pygments_lexer": "ipython3",
   "version": "3.8.5"
  }
 },
 "nbformat": 4,
 "nbformat_minor": 4
}